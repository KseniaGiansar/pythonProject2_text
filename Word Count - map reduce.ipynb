{
 "cells": [
  {
   "cell_type": "code",
   "execution_count": 114,
   "id": "5e98ef0b",
   "metadata": {},
   "outputs": [],
   "source": [
    "import urllib"
   ]
  },
  {
   "cell_type": "code",
   "execution_count": 129,
   "id": "4d175e8d",
   "metadata": {},
   "outputs": [
    {
     "name": "stdout",
     "output_type": "stream",
     "text": [
      "word: yesterday , count =  9\n",
      "word: all , count =  1\n",
      "word: my , count =  1\n",
      "word: troubles , count =  1\n",
      "word: seemed , count =  1\n",
      "word: so , count =  1\n",
      "word: far , count =  1\n",
      "word: away , count =  3\n",
      "word: now , count =  5\n",
      "word: it , count =  1\n",
      "word: looks , count =  1\n",
      "word: as , count =  1\n",
      "word: though , count =  1\n",
      "word: they're , count =  1\n",
      "word: here , count =  1\n",
      "word: to , count =  8\n",
      "word: stay , count =  1\n",
      "word: oh, , count =  4\n",
      "word: i , count =  12\n",
      "word: believe , count =  3\n",
      "word: in , count =  3\n",
      "word: suddenly, , count =  1\n",
      "word: i'm , count =  1\n",
      "word: not , count =  1\n",
      "word: half , count =  1\n",
      "word: the , count =  1\n",
      "word: man , count =  1\n",
      "word: used , count =  1\n",
      "word: be , count =  1\n",
      "word: there's , count =  1\n",
      "word: a , count =  3\n",
      "word: shadow , count =  1\n",
      "word: hanging , count =  1\n",
      "word: over , count =  1\n",
      "word: me , count =  1\n",
      "word: came , count =  1\n",
      "word: suddenly , count =  1\n",
      "word: why , count =  2\n",
      "word: she , count =  4\n",
      "word: had , count =  2\n",
      "word: go , count =  2\n",
      "word: don't , count =  2\n",
      "word: know, , count =  2\n",
      "word: wouldn't , count =  2\n",
      "word: say , count =  2\n",
      "word: said , count =  2\n",
      "word: something , count =  2\n",
      "word: wrong , count =  2\n",
      "word: long , count =  2\n",
      "word: for , count =  2\n",
      "word: love , count =  2\n",
      "word: was , count =  2\n",
      "word: such , count =  2\n",
      "word: an , count =  2\n",
      "word: easy , count =  2\n",
      "word: game , count =  2\n",
      "word: play , count =  2\n",
      "word: need , count =  2\n",
      "word: place , count =  2\n",
      "word: hide , count =  2\n"
     ]
    }
   ],
   "source": [
    "current_word = {}\n",
    "current_count = 0\n",
    "text = \"https://raw.githubusercontent.com/KseniaGiansar/pythonProject2_text/master/yesterday.txt\"\n",
    "request = urllib.request.urlopen(text)\n",
    "each_word = []\n",
    "words = None\n",
    "count = 1\n",
    "same_words ={}\n",
    "word = []\n",
    "\n",
    "# сollect words into a list\n",
    "for line in request:\n",
    "    #print \"Line = \" , line\n",
    "    line_words = line.split()\n",
    "    for word in line_words:  # looping each line and extracting words\n",
    "        each_word.append(word)\n",
    "for words in each_word:\n",
    "    if words.lower() not in same_words.keys() :\n",
    "        same_words[words.lower()]=1\n",
    "    else:\n",
    "        same_words[words.lower()]=same_words[words.lower()]+1\n",
    "for each in same_words.keys():\n",
    "    print(\"word:\", each.decode(), \", count = \",same_words[each])"
   ]
  },
  {
   "cell_type": "code",
   "execution_count": null,
   "id": "5ecd9ef8",
   "metadata": {},
   "outputs": [],
   "source": []
  }
 ],
 "metadata": {
  "kernelspec": {
   "display_name": "Python 3 (ipykernel)",
   "language": "python",
   "name": "python3"
  },
  "language_info": {
   "codemirror_mode": {
    "name": "ipython",
    "version": 3
   },
   "file_extension": ".py",
   "mimetype": "text/x-python",
   "name": "python",
   "nbconvert_exporter": "python",
   "pygments_lexer": "ipython3",
   "version": "3.9.7"
  }
 },
 "nbformat": 4,
 "nbformat_minor": 5
}
